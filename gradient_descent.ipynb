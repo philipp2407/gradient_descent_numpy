{
 "cells": [
  {
   "cell_type": "code",
   "execution_count": 5,
   "id": "36cd1eef-2727-4cfd-ab93-87c099c51161",
   "metadata": {},
   "outputs": [],
   "source": [
    "# implementation of gradient descent from scratch with numpy :)"
   ]
  },
  {
   "cell_type": "code",
   "execution_count": 7,
   "id": "8375636d-037b-4f7e-971a-47450ee47ace",
   "metadata": {},
   "outputs": [
    {
     "name": "stderr",
     "output_type": "stream",
     "text": [
      "100%|██████████████████████████████████████████████████████████████████████████| 10000/10000 [00:01<00:00, 6021.86it/s]"
     ]
    },
    {
     "name": "stdout",
     "output_type": "stream",
     "text": [
      "cost is: 1.919015721772009\n",
      "w1:3.27, w2:-1.45, b:1.06\n"
     ]
    },
    {
     "name": "stderr",
     "output_type": "stream",
     "text": [
      "\n"
     ]
    }
   ],
   "source": [
    "import numpy as np\n",
    "from tqdm import tqdm\n",
    "# cost function\n",
    "def cost_rmse(predictions, targets):\n",
    "    targets = np.array(targets)\n",
    "    return np.sqrt(np.mean(np.square(predictions-targets)))\n",
    "\n",
    "# linear model: y = w1*x1 + w2*x2 + b\n",
    "def estimate_target(w1,x1,w2,x2,b):\n",
    "    return w1*x1 + w2*x2 + b\n",
    "\n",
    "def gradient_w1(w1,x1,w2,x2,b,y):\n",
    "    return np.sum(2*(w1*x1 + w2*x2 + b - y)*x1)\n",
    "\n",
    "def gradient_w2(w1,x1,w2,x2,b,y):\n",
    "    return np.sum(2*(w1*x1 + w2*x2 + b - y)*x2)\n",
    "\n",
    "def gradient_b(w1,x1,w2,x2,b,y):\n",
    "    return np.sum(2*(w1*x1 + w2*x2 + b - y))\n",
    "\n",
    "\n",
    "# data points \n",
    "x1_arr = np.array([3.75, 9.51, 7.32, 5.99, 1.56, 1.56, 0.58, 8.66, 6.01, 7.08])\n",
    "x2_arr = np.array([0.31, 6.36, 3.14, 5.09, 9.08, 2.49, 4.10, 7.56, 2.29, 0.77])\n",
    "targets_arr = np.array([14.25, 21.26, 21.26, 11.36, -4.74, 5.64, -3.85, 17.19, 16.51, 26.28])\n",
    "\n",
    "learning_rate = 0.00001\n",
    "# initialize weights and bias\n",
    "w1 = 1\n",
    "w2 = 1\n",
    "b = 0\n",
    "threshold = 10\n",
    "num_epochs = 10000\n",
    "\n",
    "batch_size = 8\n",
    "for epoch in tqdm(range(num_epochs)):\n",
    "    for i in range(0, len(x1_arr), batch_size):\n",
    "        x1,x2,y = x1_arr[i:i+batch_size],x2_arr[i:i+batch_size],targets_arr[i:i+batch_size]\n",
    "        w1 -= learning_rate * gradient_w1(w1,x1,w2,x2,b,y)\n",
    "        w2 -= learning_rate * gradient_w2(w1,x1,w2,x2,b,y)\n",
    "        b -= learning_rate * gradient_b(w1,x1,w2,x2,b,y)\n",
    "predictions = estimate_target(w1, x1_arr, w2, x2_arr, b) \n",
    "cost = cost_rmse(predictions, targets_arr)\n",
    "print(f\"cost is: {cost}\")\n",
    "print(f\"w1:{np.round(w1,2)}, w2:{np.round(w2,2)}, b:{np.round(b,2)}\")"
   ]
  },
  {
   "cell_type": "code",
   "execution_count": null,
   "id": "75dad854-134c-4bb4-b527-384cfd5e5bc0",
   "metadata": {},
   "outputs": [],
   "source": [
    "# now implement the whole thing in batches (remember to use np.sum then for derivations etc (...)"
   ]
  },
  {
   "cell_type": "code",
   "execution_count": null,
   "id": "5453c507-2689-4016-a12c-5da657160352",
   "metadata": {},
   "outputs": [],
   "source": []
  }
 ],
 "metadata": {
  "kernelspec": {
   "display_name": "Python 3 (ipykernel)",
   "language": "python",
   "name": "python3"
  },
  "language_info": {
   "codemirror_mode": {
    "name": "ipython",
    "version": 3
   },
   "file_extension": ".py",
   "mimetype": "text/x-python",
   "name": "python",
   "nbconvert_exporter": "python",
   "pygments_lexer": "ipython3",
   "version": "3.11.5"
  }
 },
 "nbformat": 4,
 "nbformat_minor": 5
}
